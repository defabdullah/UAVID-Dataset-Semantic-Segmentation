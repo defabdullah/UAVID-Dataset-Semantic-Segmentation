{
  "cells": [
    {
      "cell_type": "code",
      "execution_count": null,
      "metadata": {
        "id": "gyoXUFN3pAIR"
      },
      "outputs": [],
      "source": [
        "\n",
        "from keras.layers import Input\n",
        "from keras.optimizers import Adam\n",
        "from keras.models import load_model\n",
        "import numpy as np\n",
        "import matplotlib.pyplot as plt\n",
        "import json\n",
        "import tensorflow as tf\n",
        "import os\n",
        "\n",
        "\n",
        "from model import UNet\n",
        "from DataGen import DataGen\n",
        "from utils import *\n",
        "\n",
        "%load_ext autoreload\n",
        "%autoreload 2\n",
        "\n",
        "#from google.colab import drive\n",
        "#drive.mount('/content/drive')"
      ]
    },
    {
      "cell_type": "code",
      "execution_count": null,
      "metadata": {
        "id": "hPsK4R1ypAIV"
      },
      "outputs": [],
      "source": [
        "## drive/Mydrive should be added to beggining of all paths if you want to execute from the drive path\n",
        "train_path = \".\\\\uavid_train\\\\*\\\\Images\\\\\"\n",
        "train_label_path= \".\\\\label_train\\\\\"\n",
        "val_path = \".\\\\uavid_val\\\\*\\\\Images\\\\\"\n",
        "val_label_path= \".\\\\label_val\\\\\"\n",
        "IMAGE_SIZE=128\n",
        "BATCH_SIZE=16\n",
        "EPOCHS=70\n",
        "\n",
        "loaded_model_path=f\"./model-{IMAGE_SIZE}-{BATCH_SIZE}-{EPOCHS}.h5\""
      ]
    },
    {
      "cell_type": "code",
      "execution_count": null,
      "metadata": {
        "id": "UZVtIdLapAIV"
      },
      "outputs": [],
      "source": [
        "model = UNet(IMAGE_SIZE)\n",
        "train_gen = DataGen(train_path, train_label_path, image_size=IMAGE_SIZE, batch_size=BATCH_SIZE)\n",
        "valid_gen = DataGen(val_path, val_label_path, image_size=IMAGE_SIZE, batch_size=BATCH_SIZE)\n",
        "callback=tf.keras.callbacks.ModelCheckpoint(\n",
        "    \"./model-128.h5\",\n",
        "    monitor= 'val_loss',\n",
        "    verbose= 1,\n",
        "    save_freq='epoch')\n",
        "model.compile(optimizer=Adam(), loss=\"categorical_crossentropy\", metrics=[\"acc\"])\n",
        "model.summary()"
      ]
    },
    {
      "cell_type": "code",
      "execution_count": null,
      "metadata": {
        "id": "T3G425mkpAIW"
      },
      "outputs": [],
      "source": [
        "history=model.fit(train_gen, validation_data=valid_gen, \n",
        "                steps_per_epoch=train_gen.steps, validation_steps=valid_gen.steps, \n",
        "                callbacks=[callback],epochs=EPOCHS)\n",
        "\n",
        "with open('file.json', 'w') as f:\n",
        "    json.dump(history.history, f)"
      ]
    },
    {
      "cell_type": "code",
      "execution_count": null,
      "metadata": {
        "id": "DbhQ_alet0ZO"
      },
      "outputs": [],
      "source": [
        "model.save(\"model.h5\")\n",
        "\n",
        "#plot loss\n",
        "history_dict = json.load(open(\"file.json\", 'r'))\n",
        "plt.plot(history_dict['val_loss'], label = \"val_loss\")\n",
        "plt.plot(history_dict['loss'], label = \"loss\")\n",
        "plt.ylabel('loss')\n",
        "plt.xlabel('epoch')\n",
        "plt.legend()\n",
        "plt.show()"
      ]
    },
    {
      "cell_type": "code",
      "execution_count": null,
      "metadata": {},
      "outputs": [],
      "source": [
        "#plot accuracy\n",
        "plt.plot(history_dict['val_acc'], label = \"val_acc\")\n",
        "plt.plot(history_dict['acc'], label = \"acc\")\n",
        "plt.ylabel('acc')\n",
        "plt.xlabel('epoch')\n",
        "plt.legend()\n",
        "plt.show()"
      ]
    },
    {
      "cell_type": "code",
      "execution_count": null,
      "metadata": {},
      "outputs": [],
      "source": [
        "#if you want to load already trained and saved model.\n",
        "loaded_model=load_model(loaded_model_path)"
      ]
    },
    {
      "cell_type": "code",
      "execution_count": null,
      "metadata": {},
      "outputs": [],
      "source": [
        "#predict validation datas and plot confusion matrix and show photos\n",
        "predict(train_gen,loaded_model,image_size=IMAGE_SIZE)"
      ]
    },
    {
      "cell_type": "code",
      "execution_count": null,
      "metadata": {},
      "outputs": [],
      "source": [
        "\n",
        "plot_all_conf(train_gen,loaded_model,image_size=IMAGE_SIZE)"
      ]
    }
  ],
  "metadata": {
    "colab": {
      "provenance": []
    },
    "kernelspec": {
      "display_name": "Python 3.10.9 64-bit (microsoft store)",
      "language": "python",
      "name": "python3"
    },
    "language_info": {
      "codemirror_mode": {
        "name": "ipython",
        "version": 3
      },
      "file_extension": ".py",
      "mimetype": "text/x-python",
      "name": "python",
      "nbconvert_exporter": "python",
      "pygments_lexer": "ipython3",
      "version": "3.10.9 (tags/v3.10.9:1dd9be6, Dec  6 2022, 20:01:21) [MSC v.1934 64 bit (AMD64)]"
    },
    "orig_nbformat": 4,
    "vscode": {
      "interpreter": {
        "hash": "0d590faa99f0a601ff07583290f182320d78f347d0227f7df19b138933d854ac"
      }
    }
  },
  "nbformat": 4,
  "nbformat_minor": 0
}
